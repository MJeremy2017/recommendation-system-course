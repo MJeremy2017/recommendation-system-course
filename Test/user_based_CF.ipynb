{
 "cells": [
  {
   "cell_type": "code",
   "execution_count": 1,
   "metadata": {
    "tags": [
     "test"
    ]
   },
   "outputs": [],
   "source": [
    "from surprise import KNNBasic\n",
    "import heapq\n",
    "from collections import defaultdict\n",
    "from operator import itemgetter\n",
    "import os\n",
    "import csv\n",
    "import sys\n",
    "import re\n",
    "from surprise import Dataset\n",
    "from surprise import Reader\n",
    "from collections import defaultdict\n",
    "import numpy as np"
   ]
  },
  {
   "cell_type": "code",
   "execution_count": 2,
   "metadata": {
    "jupyter": {
     "source_hidden": true
    }
   },
   "outputs": [],
   "source": [
    "class MovieLens:\n",
    "\n",
    "    movieID_to_name = {}\n",
    "    name_to_movieID = {}\n",
    "    ratingsPath = '/Users/yuezhang/Workspace/github/RecSys-Materials/ml-latest-small/ratings.csv'\n",
    "    moviesPath = '/Users/yuezhang/Workspace/github/RecSys-Materials/ml-latest-small/movies.csv'\n",
    "    \n",
    "    def loadMovieLensLatestSmall(self):\n",
    "\n",
    "        # Look for files relative to the directory we are running from\n",
    "        os.chdir(os.path.dirname(sys.argv[0]))\n",
    "\n",
    "        ratingsDataset = 0\n",
    "        self.movieID_to_name = {}\n",
    "        self.name_to_movieID = {}\n",
    "\n",
    "        reader = Reader(line_format='user item rating timestamp', sep=',', skip_lines=1)\n",
    "\n",
    "        ratingsDataset = Dataset.load_from_file(self.ratingsPath, reader=reader)\n",
    "\n",
    "        with open(self.moviesPath, newline='', encoding='ISO-8859-1') as csvfile:\n",
    "                movieReader = csv.reader(csvfile)\n",
    "                next(movieReader)  # Skip header line\n",
    "                for row in movieReader:\n",
    "                    movieID = int(row[0])\n",
    "                    movieName = row[1]\n",
    "                    self.movieID_to_name[movieID] = movieName\n",
    "                    self.name_to_movieID[movieName] = movieID\n",
    "\n",
    "        return ratingsDataset\n",
    "\n",
    "    def getUserRatings(self, user):\n",
    "        userRatings = []\n",
    "        hitUser = False\n",
    "        with open(self.ratingsPath, newline='') as csvfile:\n",
    "            ratingReader = csv.reader(csvfile)\n",
    "            next(ratingReader)\n",
    "            for row in ratingReader:\n",
    "                userID = int(row[0])\n",
    "                if (user == userID):\n",
    "                    movieID = int(row[1])\n",
    "                    rating = float(row[2])\n",
    "                    userRatings.append((movieID, rating))\n",
    "                    hitUser = True\n",
    "                if (hitUser and (user != userID)):\n",
    "                    break\n",
    "\n",
    "        return userRatings\n",
    "\n",
    "    def getPopularityRanks(self):\n",
    "        ratings = defaultdict(int)\n",
    "        rankings = defaultdict(int)\n",
    "        with open(self.ratingsPath, newline='') as csvfile:\n",
    "            ratingReader = csv.reader(csvfile)\n",
    "            next(ratingReader)\n",
    "            for row in ratingReader:\n",
    "                movieID = int(row[1])\n",
    "                ratings[movieID] += 1\n",
    "        rank = 1\n",
    "        for movieID, ratingCount in sorted(ratings.items(), key=lambda x: x[1], reverse=True):\n",
    "            rankings[movieID] = rank\n",
    "            rank += 1\n",
    "        return rankings\n",
    "    \n",
    "    def getGenres(self):\n",
    "        genres = defaultdict(list)\n",
    "        genreIDs = {}\n",
    "        maxGenreID = 0\n",
    "        with open(self.moviesPath, newline='', encoding='ISO-8859-1') as csvfile:\n",
    "            movieReader = csv.reader(csvfile)\n",
    "            next(movieReader)  #Skip header line\n",
    "            for row in movieReader:\n",
    "                movieID = int(row[0])\n",
    "                genreList = row[2].split('|')\n",
    "                genreIDList = []\n",
    "                for genre in genreList:\n",
    "                    if genre in genreIDs:\n",
    "                        genreID = genreIDs[genre]\n",
    "                    else:\n",
    "                        genreID = maxGenreID\n",
    "                        genreIDs[genre] = genreID\n",
    "                        maxGenreID += 1\n",
    "                    genreIDList.append(genreID)\n",
    "                genres[movieID] = genreIDList\n",
    "        # Convert integer-encoded genre lists to bitfields that we can treat as vectors\n",
    "        for (movieID, genreIDList) in genres.items():\n",
    "            bitfield = [0] * maxGenreID\n",
    "            for genreID in genreIDList:\n",
    "                bitfield[genreID] = 1\n",
    "            genres[movieID] = bitfield            \n",
    "        \n",
    "        return genres\n",
    "    \n",
    "    def getYears(self):\n",
    "        p = re.compile(r\"(?:\\((\\d{4})\\))?\\s*$\")\n",
    "        years = defaultdict(int)\n",
    "        with open(self.moviesPath, newline='', encoding='ISO-8859-1') as csvfile:\n",
    "            movieReader = csv.reader(csvfile)\n",
    "            next(movieReader)\n",
    "            for row in movieReader:\n",
    "                movieID = int(row[0])\n",
    "                title = row[1]\n",
    "                m = p.search(title)\n",
    "                year = m.group(1)\n",
    "                if year:\n",
    "                    years[movieID] = int(year)\n",
    "        return years\n",
    "    \n",
    "    def getMiseEnScene(self):\n",
    "        mes = defaultdict(list)\n",
    "        with open(\"LLVisualFeatures13K_Log.csv\", newline='') as csvfile:\n",
    "            mesReader = csv.reader(csvfile)\n",
    "            next(mesReader)\n",
    "            for row in mesReader:\n",
    "                movieID = int(row[0])\n",
    "                avgShotLength = float(row[1])\n",
    "                meanColorVariance = float(row[2])\n",
    "                stddevColorVariance = float(row[3])\n",
    "                meanMotion = float(row[4])\n",
    "                stddevMotion = float(row[5])\n",
    "                meanLightingKey = float(row[6])\n",
    "                numShots = float(row[7])\n",
    "                mes[movieID] = [avgShotLength, meanColorVariance, stddevColorVariance,\n",
    "                   meanMotion, stddevMotion, meanLightingKey, numShots]\n",
    "        return mes\n",
    "    \n",
    "    def getMovieName(self, movieID):\n",
    "        if movieID in self.movieID_to_name:\n",
    "            return self.movieID_to_name[movieID]\n",
    "        else:\n",
    "            return \"\"\n",
    "        \n",
    "    def getMovieID(self, movieName):\n",
    "        if movieName in self.name_to_movieID:\n",
    "            return self.name_to_movieID[movieName]\n",
    "        else:\n",
    "            return 0"
   ]
  },
  {
   "cell_type": "code",
   "execution_count": 3,
   "metadata": {},
   "outputs": [],
   "source": [
    "testSubject = '85'\n",
    "k = 10\n",
    "\n",
    "# Load our data set and compute the user similarity matrix\n",
    "ml = MovieLens()\n",
    "data = ml.loadMovieLensLatestSmall()\n",
    "\n",
    "trainSet = data.build_full_trainset()"
   ]
  },
  {
   "cell_type": "code",
   "execution_count": 4,
   "metadata": {},
   "outputs": [
    {
     "name": "stdout",
     "output_type": "stream",
     "text": [
      "Computing the cosine similarity matrix...\n",
      "Done computing similarity matrix.\n",
      "Computing the cosine similarity matrix...\n",
      "Done computing similarity matrix.\n"
     ]
    }
   ],
   "source": [
    "sim_options = {'name': 'cosine',\n",
    "               'user_based': True}\n",
    "\n",
    "model = KNNBasic(sim_options=sim_options)\n",
    "model.fit(trainSet)\n",
    "simsMatrix = model.compute_similarities()"
   ]
  },
  {
   "cell_type": "code",
   "execution_count": 6,
   "metadata": {},
   "outputs": [
    {
     "data": {
      "text/plain": [
       "Prediction(uid='12', iid='22', r_ui=None, est=3.3698453974988807, details={'actual_k': 38, 'was_impossible': False})"
      ]
     },
     "execution_count": 6,
     "metadata": {},
     "output_type": "execute_result"
    }
   ],
   "source": [
    "model.predict(\"12\", \"22\")"
   ]
  },
  {
   "cell_type": "code",
   "execution_count": 12,
   "metadata": {},
   "outputs": [
    {
     "data": {
      "text/plain": [
       "array([[1.        , 0.        , 0.        , ..., 1.        , 0.        ,\n",
       "        1.        ],\n",
       "       [0.        , 1.        , 0.95561425, ..., 0.776114  , 0.89144204,\n",
       "        0.97993672],\n",
       "       [0.        , 0.95561425, 1.        , ..., 0.99786069, 0.94592126,\n",
       "        0.98448284],\n",
       "       ...,\n",
       "       [1.        , 0.776114  , 0.99786069, ..., 1.        , 1.        ,\n",
       "        0.9952275 ],\n",
       "       [0.        , 0.89144204, 0.94592126, ..., 1.        , 1.        ,\n",
       "        0.96183401],\n",
       "       [1.        , 0.97993672, 0.98448284, ..., 0.9952275 , 0.96183401,\n",
       "        1.        ]])"
      ]
     },
     "execution_count": 12,
     "metadata": {},
     "output_type": "execute_result"
    }
   ],
   "source": [
    "simsMatrix"
   ]
  },
  {
   "cell_type": "code",
   "execution_count": 20,
   "metadata": {},
   "outputs": [
    {
     "name": "stdout",
     "output_type": "stream",
     "text": [
      "test subject inner id 84\n"
     ]
    }
   ],
   "source": [
    "# Get top N similar users to our Test subject\n",
    "# (Alternate approach would be to select users up to some similarity threshold - try it!)\n",
    "testUserInnerID = trainSet.to_inner_uid(testSubject)\n",
    "similarityRow = simsMatrix[testUserInnerID]\n",
    "\n",
    "print(\"test subject inner id\", testUserInnerID)\n",
    "similarUsers = []\n",
    "for innerID, score in enumerate(similarityRow):\n",
    "    if innerID != testUserInnerID:\n",
    "        similarUsers.append((innerID, score))\n",
    "\n",
    "kNeighbors = heapq.nlargest(k, similarUsers, key=lambda t: t[1])"
   ]
  },
  {
   "cell_type": "code",
   "execution_count": 22,
   "metadata": {},
   "outputs": [
    {
     "data": {
      "text/plain": [
       "[(10, 1.0),\n",
       " (11, 1.0),\n",
       " (13, 1.0),\n",
       " (24, 1.0),\n",
       " (36, 1.0),\n",
       " (44, 1.0),\n",
       " (45, 1.0),\n",
       " (51, 1.0),\n",
       " (53, 1.0),\n",
       " (61, 1.0)]"
      ]
     },
     "execution_count": 22,
     "metadata": {},
     "output_type": "execute_result"
    }
   ],
   "source": [
    "kNeighbors"
   ]
  },
  {
   "cell_type": "code",
   "execution_count": 28,
   "metadata": {},
   "outputs": [],
   "source": [
    "# Get the stuff they rated, and add up ratings for each item, weighted by user similarity\n",
    "candidates = defaultdict(float)\n",
    "for similarUser in kNeighbors:\n",
    "    innerID = similarUser[0]\n",
    "    userSimilarityScore = similarUser[1]\n",
    "    theirRatings = trainSet.ur[innerID]\n",
    "    # just count the rating sum, so frequency is taking into account as well\n",
    "    for rating in theirRatings:\n",
    "        candidates[rating[0]] += (rating[1] / 5.0) * userSimilarityScore"
   ]
  },
  {
   "cell_type": "code",
   "execution_count": 29,
   "metadata": {},
   "outputs": [
    {
     "data": {
      "text/plain": [
       "1.0"
      ]
     },
     "execution_count": 29,
     "metadata": {},
     "output_type": "execute_result"
    }
   ],
   "source": [
    "candidates[24]"
   ]
  },
  {
   "cell_type": "code",
   "execution_count": 30,
   "metadata": {},
   "outputs": [],
   "source": [
    "# Build a dictionary of stuff the user has already seen\n",
    "watched = {}\n",
    "for itemID, rating in trainSet.ur[testUserInnerID]:\n",
    "    watched[itemID] = 1"
   ]
  },
  {
   "cell_type": "code",
   "execution_count": 32,
   "metadata": {},
   "outputs": [
    {
     "name": "stdout",
     "output_type": "stream",
     "text": [
      "Inception (2010) 3.3\n",
      "Star Wars: Episode V - The Empire Strikes Back (1980) 2.4\n",
      "Bourne Identity, The (1988) 2.0\n",
      "Crouching Tiger, Hidden Dragon (Wo hu cang long) (2000) 2.0\n",
      "Dark Knight, The (2008) 2.0\n",
      "Good, the Bad and the Ugly, The (Buono, il brutto, il cattivo, Il) (1966) 1.9\n",
      "Departed, The (2006) 1.9\n",
      "Dark Knight Rises, The (2012) 1.9\n",
      "Back to the Future (1985) 1.9\n",
      "Gravity (2013) 1.8\n",
      "Fight Club (1999) 1.8\n"
     ]
    }
   ],
   "source": [
    "# Get top-rated items from similar users:\n",
    "pos = 0\n",
    "for itemID, ratingSum in sorted(candidates.items(), key=itemgetter(1), reverse=True):\n",
    "    if not itemID in watched:\n",
    "        movieID = trainSet.to_raw_iid(itemID)\n",
    "        print(ml.getMovieName(int(movieID)), ratingSum)\n",
    "        pos += 1\n",
    "        if pos > 10:\n",
    "            break"
   ]
  },
  {
   "cell_type": "code",
   "execution_count": 79,
   "metadata": {},
   "outputs": [],
   "source": [
    "import pandas as pd\n",
    "\n",
    "df = pd.DataFrame({\"userId\": [1, 1, 1, 2, 2], \"movieId\": [1, 2, 3, 1, 2], \"rating\": [5, 5, 4, 2.2, 5]})\n",
    "reader = Reader(rating_scale=(1, 5))\n",
    "\n",
    "ds = Dataset.load_from_df(df, reader)"
   ]
  },
  {
   "cell_type": "code",
   "execution_count": 80,
   "metadata": {},
   "outputs": [],
   "source": [
    "ts = ds.build_full_trainset()"
   ]
  },
  {
   "cell_type": "code",
   "execution_count": 81,
   "metadata": {},
   "outputs": [
    {
     "name": "stdout",
     "output_type": "stream",
     "text": [
      "Computing the cosine similarity matrix...\n",
      "Done computing similarity matrix.\n",
      "Computing the cosine similarity matrix...\n",
      "Done computing similarity matrix.\n"
     ]
    }
   ],
   "source": [
    "sim_options = {'name': 'cosine',\n",
    "               'user_based': True}\n",
    "\n",
    "# Only common users (or items) are taken into account(rating is not accounted).\n",
    "model = KNNBasic(sim_options=sim_options)\n",
    "model.fit(ts)\n",
    "simsMatrix = model.compute_similarities()"
   ]
  },
  {
   "cell_type": "code",
   "execution_count": 82,
   "metadata": {},
   "outputs": [
    {
     "name": "stdout",
     "output_type": "stream",
     "text": [
      "   userId  movieId  rating\n",
      "0       1        1     5.0\n",
      "1       1        2     5.0\n",
      "2       1        3     4.0\n",
      "3       2        1     2.2\n",
      "4       2        2     5.0\n"
     ]
    },
    {
     "data": {
      "text/plain": [
       "array([[1.        , 0.93200467],\n",
       "       [0.93200467, 1.        ]])"
      ]
     },
     "execution_count": 82,
     "metadata": {},
     "output_type": "execute_result"
    }
   ],
   "source": [
    "print(df)\n",
    "simsMatrix # (5*2.2 + 5*5)/(np.sqrt(50)*np.sqrt(2.2**2 + 25))"
   ]
  },
  {
   "cell_type": "code",
   "execution_count": 10,
   "metadata": {},
   "outputs": [
    {
     "data": {
      "text/plain": [
       "array([[ 1,  2,  3],\n",
       "       [11,  2,  0]])"
      ]
     },
     "execution_count": 10,
     "metadata": {},
     "output_type": "execute_result"
    }
   ],
   "source": [
    "a = np.array([[1, 2, 3], [11, 2, 0]])\n",
    "a"
   ]
  },
  {
   "cell_type": "code",
   "execution_count": 13,
   "metadata": {},
   "outputs": [
    {
     "data": {
      "text/plain": [
       "array([[ 14,  15],\n",
       "       [ 15, 125]])"
      ]
     },
     "execution_count": 13,
     "metadata": {},
     "output_type": "execute_result"
    }
   ],
   "source": [
    "np.dot(a, np.transpose(a))"
   ]
  },
  {
   "cell_type": "code",
   "execution_count": 14,
   "metadata": {},
   "outputs": [
    {
     "data": {
      "text/plain": [
       "array([[122,  24,   3],\n",
       "       [ 24,   8,   6],\n",
       "       [  3,   6,   9]])"
      ]
     },
     "execution_count": 14,
     "metadata": {},
     "output_type": "execute_result"
    }
   ],
   "source": [
    "np.dot(np.transpose(a), a)"
   ]
  },
  {
   "cell_type": "code",
   "execution_count": null,
   "metadata": {},
   "outputs": [],
   "source": []
  }
 ],
 "metadata": {
  "kernelspec": {
   "display_name": "Python 3",
   "language": "python",
   "name": "python3"
  },
  "language_info": {
   "codemirror_mode": {
    "name": "ipython",
    "version": 3
   },
   "file_extension": ".py",
   "mimetype": "text/x-python",
   "name": "python",
   "nbconvert_exporter": "python",
   "pygments_lexer": "ipython3",
   "version": "3.8.3"
  }
 },
 "nbformat": 4,
 "nbformat_minor": 4
}
